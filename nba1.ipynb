{
 "cells": [
  {
   "cell_type": "code",
   "execution_count": 1,
   "id": "a4f01220",
   "metadata": {},
   "outputs": [],
   "source": [
    "import pandas as pd\n",
    "import matplotlib as mpl\n",
    "import matplotlib.pyplot as plt\n",
    "from app import NBA, NBAStats, Analysis, DisplayCharts"
   ]
  },
  {
   "cell_type": "code",
   "execution_count": 2,
   "id": "309800b9",
   "metadata": {},
   "outputs": [],
   "source": [
    "from dotenv import dotenv_values\n",
    "config = dotenv_values(\".env\")\n"
   ]
  },
  {
   "cell_type": "code",
   "execution_count": 2,
   "id": "9ca2245f",
   "metadata": {},
   "outputs": [],
   "source": [
    "from get_players import get_nba_players_csv\n",
    "get_nba_players_csv()"
   ]
  },
  {
   "cell_type": "code",
   "execution_count": 5,
   "id": "a1388595",
   "metadata": {},
   "outputs": [],
   "source": [
    "nba_players = NBA('players_csv/nba_players.csv')\n",
    "nba_statistics = NBAStats()\n",
    "nba_charts = DisplayCharts()\n",
    "nba_analysis = Analysis()"
   ]
  },
  {
   "cell_type": "code",
   "execution_count": 7,
   "id": "66982fd1",
   "metadata": {},
   "outputs": [
    {
     "name": "stdout",
     "output_type": "stream",
     "text": [
      "2544\n"
     ]
    }
   ],
   "source": [
    "print(nba_players.get_id_by_player_name('LeBron James'))"
   ]
  }
 ],
 "metadata": {
  "kernelspec": {
   "display_name": "Python 3",
   "language": "python",
   "name": "python3"
  },
  "language_info": {
   "codemirror_mode": {
    "name": "ipython",
    "version": 3
   },
   "file_extension": ".py",
   "mimetype": "text/x-python",
   "name": "python",
   "nbconvert_exporter": "python",
   "pygments_lexer": "ipython3",
   "version": "3.9.4"
  }
 },
 "nbformat": 4,
 "nbformat_minor": 5
}
