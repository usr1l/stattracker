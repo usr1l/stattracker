{
 "cells": [
  {
   "cell_type": "code",
   "execution_count": null,
   "id": "a4f01220",
   "metadata": {},
   "outputs": [],
   "source": [
    "import pandas as pd\n",
    "import matplotlib as mpl\n",
    "import matplotlib.pyplot as plt\n",
    "from app import nba_players, nba_statistics, nba_charts, nba_analysis\n",
    "from get_players import get_players"
   ]
  },
  {
   "cell_type": "code",
   "execution_count": null,
   "id": "309800b9",
   "metadata": {},
   "outputs": [
    {
     "name": "stdout",
     "output_type": "stream",
     "text": [
      "OrderedDict([('CURRENT_SEASON', '2023-24'), ('LAST_FIVE_SEASONS', \"['2023-24', '2022-23', '2021-22', '2020-21', '2019-20']\")])\n"
     ]
    }
   ],
   "source": [
    "from dotenv import dotenv_values\n",
    "config = dotenv_values(\".env\")\n"
   ]
  },
  {
   "cell_type": "code",
   "execution_count": null,
   "id": "9ca2245f",
   "metadata": {},
   "outputs": [],
   "source": [
    "nba_players.get"
   ]
  }
 ],
 "metadata": {
  "kernelspec": {
   "display_name": "Python 3",
   "language": "python",
   "name": "python3"
  },
  "language_info": {
   "codemirror_mode": {
    "name": "ipython",
    "version": 3
   },
   "file_extension": ".py",
   "mimetype": "text/x-python",
   "name": "python",
   "nbconvert_exporter": "python",
   "pygments_lexer": "ipython3",
   "version": "3.9.4"
  }
 },
 "nbformat": 4,
 "nbformat_minor": 5
}
