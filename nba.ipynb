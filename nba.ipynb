{
 "cells": [
  {
   "cell_type": "code",
   "execution_count": 1,
   "metadata": {},
   "outputs": [],
   "source": [
    "from app import nba_players, nba_statistics, nba_charts, nba_analysis\n",
    "import matplotlib as mpl\n",
    "import matplotlib.pyplot as plt\n",
    "import pandas as pd\n",
    "\n",
    "# nba_analysis.get_cat_averages()\n",
    "# nba_analysis.get_cats_probability()\n",
    "# nba_analysis.get_combination_probability()\n",
    "# nba_analysis.get_probability_pts_reb_ast()\n",
    "# nba_analysis.get_probability_stl_blk()\n",
    "\n",
    "def fn(player, matchup=\"\",\n",
    "            num_games=20,\n",
    "            home=False,\n",
    "            away=False,\n",
    "            ast=None,\n",
    "            reb=None,\n",
    "            pts=None,\n",
    "            stl=None,\n",
    "            blk=None,\n",
    "            pf=None,\n",
    "            threes_made=None,\n",
    "            triple_double=None,\n",
    "            double_double=None,\n",
    "            win=None):\n",
    "  return nba_statistics.get_player_statistics(\n",
    "    nba_players.get_player_by_name(player),\n",
    "    matchup=nba_players.get_team_abbreviation_by_name(matchup),\n",
    "            num_games=num_games,\n",
    "            home=home,\n",
    "            away=away,\n",
    "            ast=ast,\n",
    "            reb=reb,\n",
    "            pts=pts,\n",
    "            stl=stl,\n",
    "            blk=blk,\n",
    "            pf=pf,\n",
    "            threes_made=threes_made,\n",
    "            triple_double=triple_double,\n",
    "            double_double=double_double,\n",
    "            win=win\n",
    "  )\n",
    "\n",
    "luka = pd.read_csv('players_csv/mavericks/luka.csv')\n",
    "kyrie = pd.read_csv('players_csv/mavericks/kyrie.csv')\n",
    "pj = pd.read_csv('players_csv/mavericks/pj.csv')\n",
    "gafford = pd.read_csv('players_csv/mavericks/gafford.csv')\n",
    "jones = pd.read_csv('players_csv/mavericks/jones.csv')\n",
    "hardy = pd.read_csv('players_csv/mavericks/hardy.csv')\n",
    "lively = pd.read_csv('players_csv/mavericks/lively.csv')\n",
    "brown = pd.read_csv('players_csv/celtics/brown.csv')\n",
    "tatum = pd.read_csv('players_csv/celtics/tatum.csv')\n",
    "white = pd.read_csv('players_csv/celtics/white.csv')\n",
    "porzingis = pd.read_csv('players_csv/celtics/porzingis.csv')\n",
    "holiday = pd.read_csv('players_csv/celtics/holiday.csv')\n",
    "payton = pd.read_csv('players_csv/celtics/payton.csv')\n",
    "horford = pd.read_csv('players_csv/celtics/horford.csv')"
   ]
  },
  {
   "cell_type": "code",
   "execution_count": 2,
   "metadata": {},
   "outputs": [],
   "source": [
    "NUM_GAMES = 70\n",
    "\n",
    "luka=fn('luka', num_games=NUM_GAMES)\n",
    "kyrie=fn('kyrie', num_games=NUM_GAMES)\n",
    "pj=fn('p.j. washington', num_games=NUM_GAMES)\n",
    "gafford=fn('daniel gafford', num_games=NUM_GAMES)\n",
    "jones=fn('derrick jones jr.', num_games=NUM_GAMES)\n",
    "hardy=fn('jaden hardy', num_games=NUM_GAMES)\n",
    "lively=fn('dereck lively', num_games=NUM_GAMES)\n",
    "\n",
    "tatum = fn('tatum', num_games=NUM_GAMES)\n",
    "brown = fn('jaylen brown', num_games=NUM_GAMES)\n",
    "white = fn('derrick white', num_games=NUM_GAMES)\n",
    "porzingis = fn('porzingis', num_games=NUM_GAMES)\n",
    "holiday = fn('jrue holiday', num_games=NUM_GAMES)\n",
    "payton = fn('payton pritchard', num_games=NUM_GAMES)\n",
    "horford = fn('al horford', num_games=NUM_GAMES)"
   ]
  },
  {
   "cell_type": "code",
   "execution_count": 3,
   "metadata": {},
   "outputs": [
    {
     "data": {
      "text/plain": [
       "'players_csv/nba_players.csv'"
      ]
     },
     "execution_count": 3,
     "metadata": {},
     "output_type": "execute_result"
    }
   ],
   "source": [
    "luka.to_csv('players_csv/mavericks/luka.csv', index=False)\n",
    "kyrie.to_csv('players_csv/mavericks/kyrie.csv', index=False)\n",
    "pj.to_csv('players_csv/mavericks/pj.csv', index=False)\n",
    "gafford.to_csv('players_csv/mavericks/gafford.csv', index=False)\n",
    "jones.to_csv('players_csv/mavericks/jones.csv', index=False)\n",
    "hardy.to_csv('players_csv/mavericks/hardy.csv', index=False)\n",
    "lively.to_csv('players_csv/mavericks/lively.csv', index=False)\n",
    "\n",
    "tatum.to_csv('players_csv/celtics/tatum.csv', index=False)\n",
    "brown.to_csv('players_csv/celtics/brown.csv', index=False)\n",
    "white.to_csv('players_csv/celtics/white.csv', index=False)\n",
    "porzingis.to_csv('players_csv/celtics/porzingis.csv', index=False)\n",
    "holiday.to_csv('players_csv/celtics/holiday.csv', index=False)\n",
    "payton.to_csv('players_csv/celtics/payton.csv', index=False)\n",
    "horford.to_csv('players_csv/celtics/horford.csv', index=False)\n",
    "nba_players.check_csv_file()"
   ]
  },
  {
   "cell_type": "code",
   "execution_count": null,
   "metadata": {},
   "outputs": [],
   "source": [
    "player_1 = {\n",
    "  'pts': 15,\n",
    "  'reb': 0,\n",
    "  'ast': 0,\n",
    "  'stl': 0,\n",
    "  'blk': 0,\n",
    "  'total_pra': 0,\n",
    "  'total_sb': 0\n",
    "}\n",
    "\n",
    "player_2 = {\n",
    "  'pts': 15,\n",
    "  'reb': 0,\n",
    "  'ast': 0,\n",
    "  'stl': 0,\n",
    "  'blk': 0,\n",
    "  'total_pra': 0,\n",
    "  'total_sb': 0\n",
    "}\n",
    "\n",
    "player_3 = {\n",
    "  'pts': 8,\n",
    "  'reb': 4,\n",
    "  'ast': 0,\n",
    "  'stl': 0,\n",
    "  'blk': 0,\n",
    "  'total_pra': 0,\n",
    "  'total_sb': 0\n",
    "}\n",
    "\n",
    "# players = [player_1, player_2, player_3]\n",
    "\n",
    "# luka=fn('luka')\n",
    "\n",
    "# nba_analysis.get_cat_averages()\n",
    "# nba_analysis.get_cats_probability(kyrie, reb=4)\n",
    "# nba_analysis.get_combination_probability([brown], [player_1], combine='all')\n",
    "# nba_analysis.get_probability_pts_reb_ast()\n",
    "# nba_analysis.get_probability_stl_blk()"
   ]
  },
  {
   "cell_type": "code",
   "execution_count": 4,
   "metadata": {},
   "outputs": [
    {
     "data": {
      "text/plain": [
       "{'FG3M': 3.142857142857143,\n",
       " 'PTS': 31.5,\n",
       " 'REB': 9.428571428571429,\n",
       " 'AST': 7.071428571428571,\n",
       " 'STL': 1.3571428571428572,\n",
       " 'BLK': 0.07142857142857142}"
      ]
     },
     "execution_count": 4,
     "metadata": {},
     "output_type": "execute_result"
    }
   ],
   "source": [
    "# nba_analysis.get_probability_table_combos(logs=[luka, kyrie])\n",
    "nba_analysis.get_cat_averages(fn('luka', matchup='celtics'))"
   ]
  },
  {
   "cell_type": "code",
   "execution_count": null,
   "metadata": {},
   "outputs": [],
   "source": []
  }
 ],
 "metadata": {
  "kernelspec": {
   "display_name": "Python 3",
   "language": "python",
   "name": "python3"
  },
  "language_info": {
   "codemirror_mode": {
    "name": "ipython",
    "version": 3
   },
   "file_extension": ".py",
   "mimetype": "text/x-python",
   "name": "python",
   "nbconvert_exporter": "python",
   "pygments_lexer": "ipython3",
   "version": "3.9.4"
  }
 },
 "nbformat": 4,
 "nbformat_minor": 2
}
